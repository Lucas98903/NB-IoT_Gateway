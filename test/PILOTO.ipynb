{
 "cells": [
  {
   "cell_type": "code",
   "execution_count": 3,
   "metadata": {},
   "outputs": [],
   "source": [
    "request_str = \"80003102260b7300000166fd39fd6ffba01b280000000066d62a160001186973806917602781ffffffffff\"\n"
   ]
  },
  {
   "cell_type": "code",
   "execution_count": 13,
   "metadata": {},
   "outputs": [
    {
     "name": "stdout",
     "output_type": "stream",
     "text": [
      "80003102260b7300000166fd39fd6ffba01b280000000066d62a160001186973806917602781\n"
     ]
    }
   ],
   "source": [
    "final = str(request_str).find(\"81\")\n",
    "start = str(request_str).find(\"8000\")\n",
    "\n",
    "if start!=-1 and final!=-1:\n",
    "    print(request_str[start:int(final+2)])\n"
   ]
  }
 ],
 "metadata": {
  "kernelspec": {
   "display_name": "Python 3",
   "language": "python",
   "name": "python3"
  },
  "language_info": {
   "codemirror_mode": {
    "name": "ipython",
    "version": 3
   },
   "file_extension": ".py",
   "mimetype": "text/x-python",
   "name": "python",
   "nbconvert_exporter": "python",
   "pygments_lexer": "ipython3",
   "version": "3.12.5"
  }
 },
 "nbformat": 4,
 "nbformat_minor": 2
}
